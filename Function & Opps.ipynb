{
 "cells": [
  {
   "cell_type": "markdown",
   "id": "f76297d7-46cd-4f7d-942d-f36e6133ff8c",
   "metadata": {},
   "source": [
    "# 1 Explain the importance of Functions.\n",
    "Function is block of code that performs some specefic computation.It keeps your code neat and clean,organised , reusable."
   ]
  },
  {
   "cell_type": "code",
   "execution_count": 2,
   "id": "156e8d1d-fab7-4df7-bc3f-0d1239417254",
   "metadata": {},
   "outputs": [],
   "source": [
    "# 2 Write a basic function to greet students.\n",
    "def greet(a): #def is pyhon keyword which is used to define function.\n",
    "    print(\"welcome to class\",a)"
   ]
  },
  {
   "cell_type": "code",
   "execution_count": 3,
   "id": "24403905-babd-4645-bad3-28b885ba4ad1",
   "metadata": {},
   "outputs": [
    {
     "name": "stdout",
     "output_type": "stream",
     "text": [
      "welcome to class anjali\n"
     ]
    }
   ],
   "source": [
    "greet(\"anjali\")"
   ]
  },
  {
   "cell_type": "markdown",
   "id": "a83c9194-1221-422e-9a18-ad17a82d4126",
   "metadata": {},
   "source": [
    "# 3 What is the difference between print and return statements ?\n",
    "#print >> 1) print is only show the statement that we wrire in code. 2) It does't calculate and return anything.\n",
    "3) print give us non-datatype value or text means we can't use that value ahead/further in our code.\n",
    "\n",
    "#return >> 1) return is used when we need return something or when we provide any expression give us calculated value.\n",
    "2) return give us datatype(int,float,string etc), \"based on what we provide in expression\", means we can use that value ahead/further in our code."
   ]
  },
  {
   "cell_type": "markdown",
   "id": "2aa66c06-7e3e-4a8c-a942-5564e7f96e18",
   "metadata": {},
   "source": [
    "# 4 What are *args and **kwargs ?\n",
    "*args >> args means arguements , when we don't how many arguement has come into function for computation then we use \" *args \".\n",
    "**kwargs>> kwargs means keyword arguement, when we need to create data in key-value pair then we use \" **kwargs \"."
   ]
  },
  {
   "cell_type": "markdown",
   "id": "82ce4c5d-1f10-475d-a14b-10124d0dcce5",
   "metadata": {},
   "source": [
    "# 5 Explain the iterator function.\n",
    "iterator >> In Python, an iterator is an object that allows you to iterate over collections of data, such as lists, tuples, dictionaries, and sets. Python iterators implement the iterator design pattern, which allows you to traverse a container and access its elements."
   ]
  },
  {
   "cell_type": "code",
   "execution_count": 7,
   "id": "ceb0e099-99e0-458a-b1ab-84cfef2eaf6f",
   "metadata": {},
   "outputs": [],
   "source": [
    "# 6 Write a code that generates the squares of numbers from 1 to n using a generator.\n",
    "def squares(n):\n",
    "    for i in range(1,n):\n",
    "        yield i**2 # yield use for generator function , which give you value one by one from 1 to n instead of give all values at one time."
   ]
  },
  {
   "cell_type": "code",
   "execution_count": 8,
   "id": "dd2f508a-6e38-431f-aa58-0720cce45073",
   "metadata": {},
   "outputs": [],
   "source": [
    "sq = squares(5)"
   ]
  },
  {
   "cell_type": "code",
   "execution_count": 9,
   "id": "3eaa8820-b900-49fe-b8d9-565a50780d44",
   "metadata": {},
   "outputs": [
    {
     "data": {
      "text/plain": [
       "1"
      ]
     },
     "execution_count": 9,
     "metadata": {},
     "output_type": "execute_result"
    }
   ],
   "source": [
    "next(sq)"
   ]
  },
  {
   "cell_type": "code",
   "execution_count": 10,
   "id": "6664057d-3e0f-4908-a608-72682f29fe47",
   "metadata": {},
   "outputs": [
    {
     "data": {
      "text/plain": [
       "4"
      ]
     },
     "execution_count": 10,
     "metadata": {},
     "output_type": "execute_result"
    }
   ],
   "source": [
    "next(sq)"
   ]
  },
  {
   "cell_type": "code",
   "execution_count": 11,
   "id": "290d85c5-cc99-4817-828f-d34cc5b5bc84",
   "metadata": {},
   "outputs": [
    {
     "data": {
      "text/plain": [
       "9"
      ]
     },
     "execution_count": 11,
     "metadata": {},
     "output_type": "execute_result"
    }
   ],
   "source": [
    "next(sq)"
   ]
  },
  {
   "cell_type": "code",
   "execution_count": 12,
   "id": "b6a04dd0-5144-4f96-8fee-528cf30648ef",
   "metadata": {},
   "outputs": [],
   "source": [
    "# 7 Write a code that generates palindromic numbers up to n using a generator\n",
    "def is_palindromic(num):\n",
    "    return str(num) == str(num)[::-1]\n",
    "def palindromic_no_upto(n):\n",
    "    for num in range(n+1):\n",
    "        if is_palindromic(num):\n",
    "            yield num"
   ]
  },
  {
   "cell_type": "code",
   "execution_count": 13,
   "id": "50641d47-7265-4cfc-9de8-838df11e203d",
   "metadata": {},
   "outputs": [
    {
     "name": "stdout",
     "output_type": "stream",
     "text": [
      "0\n",
      "1\n",
      "2\n",
      "3\n",
      "4\n",
      "5\n"
     ]
    }
   ],
   "source": [
    "n = 5\n",
    "for i in palindromic_no_upto(n):\n",
    "    print(i)"
   ]
  },
  {
   "cell_type": "code",
   "execution_count": 14,
   "id": "1f6e07b1-71a5-4841-83b2-33b4ca7216a3",
   "metadata": {},
   "outputs": [],
   "source": [
    "# 8 Write a code that generates even numbers from 2 to n using a generator.\n",
    "def even(n):\n",
    "    for i in range(2,n):\n",
    "        if i % 2 == 0:\n",
    "           yield i"
   ]
  },
  {
   "cell_type": "code",
   "execution_count": 15,
   "id": "215d854a-2614-46c6-8c66-b5fae1e8956f",
   "metadata": {},
   "outputs": [],
   "source": [
    "e = even(100)"
   ]
  },
  {
   "cell_type": "code",
   "execution_count": 16,
   "id": "174c85d8-8180-423f-90f2-28da2b6202a3",
   "metadata": {},
   "outputs": [
    {
     "data": {
      "text/plain": [
       "2"
      ]
     },
     "execution_count": 16,
     "metadata": {},
     "output_type": "execute_result"
    }
   ],
   "source": [
    "next(e)"
   ]
  },
  {
   "cell_type": "code",
   "execution_count": 17,
   "id": "7ed2b700-db6c-407a-a1b6-30d0f8c110bd",
   "metadata": {},
   "outputs": [
    {
     "data": {
      "text/plain": [
       "4"
      ]
     },
     "execution_count": 17,
     "metadata": {},
     "output_type": "execute_result"
    }
   ],
   "source": [
    "next(e)"
   ]
  },
  {
   "cell_type": "code",
   "execution_count": 18,
   "id": "82b88467-ced7-48bb-92f8-953e9e64d672",
   "metadata": {},
   "outputs": [
    {
     "data": {
      "text/plain": [
       "6"
      ]
     },
     "execution_count": 18,
     "metadata": {},
     "output_type": "execute_result"
    }
   ],
   "source": [
    "next(e)"
   ]
  },
  {
   "cell_type": "code",
   "execution_count": 19,
   "id": "043db6c1-d605-4010-a99a-569434756d2b",
   "metadata": {},
   "outputs": [],
   "source": [
    "# 9  Write a code that generates powers of two up to n using a generator\n",
    "def power_two(num):\n",
    "    power = 1\n",
    "    while power <= num:\n",
    "        yield power\n",
    "        power = power * 2"
   ]
  },
  {
   "cell_type": "code",
   "execution_count": 20,
   "id": "38a1c41f-7d3c-4328-aaff-3eedc0aa16f7",
   "metadata": {},
   "outputs": [],
   "source": [
    "p = power_two(100)"
   ]
  },
  {
   "cell_type": "code",
   "execution_count": 21,
   "id": "223ae652-c3a4-4964-b25d-1ac912e4e61e",
   "metadata": {},
   "outputs": [
    {
     "data": {
      "text/plain": [
       "1"
      ]
     },
     "execution_count": 21,
     "metadata": {},
     "output_type": "execute_result"
    }
   ],
   "source": [
    "next(p)"
   ]
  },
  {
   "cell_type": "code",
   "execution_count": 22,
   "id": "e618aa3f-3698-48f0-9c31-fdac4e2f28f5",
   "metadata": {},
   "outputs": [
    {
     "data": {
      "text/plain": [
       "2"
      ]
     },
     "execution_count": 22,
     "metadata": {},
     "output_type": "execute_result"
    }
   ],
   "source": [
    "next(p)"
   ]
  },
  {
   "cell_type": "code",
   "execution_count": 23,
   "id": "e07393fa-fa30-4c34-8588-77740fc90ecf",
   "metadata": {},
   "outputs": [
    {
     "data": {
      "text/plain": [
       "4"
      ]
     },
     "execution_count": 23,
     "metadata": {},
     "output_type": "execute_result"
    }
   ],
   "source": [
    "next(p)"
   ]
  },
  {
   "cell_type": "code",
   "execution_count": 24,
   "id": "09842ca8-0a28-431b-a8e1-3758d9676847",
   "metadata": {},
   "outputs": [
    {
     "data": {
      "text/plain": [
       "8"
      ]
     },
     "execution_count": 24,
     "metadata": {},
     "output_type": "execute_result"
    }
   ],
   "source": [
    "next(p)"
   ]
  },
  {
   "cell_type": "code",
   "execution_count": 25,
   "id": "a17ece25-7507-4f99-9bf9-49223bd3553f",
   "metadata": {},
   "outputs": [
    {
     "data": {
      "text/plain": [
       "16"
      ]
     },
     "execution_count": 25,
     "metadata": {},
     "output_type": "execute_result"
    }
   ],
   "source": [
    "next(p)"
   ]
  },
  {
   "cell_type": "code",
   "execution_count": 26,
   "id": "66f4e10b-083b-4781-8c9b-0827a476c2b7",
   "metadata": {},
   "outputs": [],
   "source": [
    "# 10  Write a code that generates prime numbers up to n using a generator\n",
    "def is_prime(num):\n",
    "    flag = 0\n",
    "    if num < 2:\n",
    "        flag = 1\n",
    "    else:\n",
    "     for i in range(2,num):\n",
    "         if num % i == 0:\n",
    "             flag = 1\n",
    "             break\n",
    "            \n",
    "    if flag == 1:\n",
    "        print(num,\"is not prime\")\n",
    "    else:\n",
    "        print(num,\"is prime\")\n",
    "\n",
    "def prime_n(n):\n",
    "    for num in range(2,n):\n",
    "        if is_prime(num):\n",
    "            return num"
   ]
  },
  {
   "cell_type": "code",
   "execution_count": 27,
   "id": "437d3d35-1dd1-47e2-9184-51d65fd7f892",
   "metadata": {},
   "outputs": [
    {
     "name": "stdout",
     "output_type": "stream",
     "text": [
      "2 is prime\n",
      "3 is prime\n",
      "4 is not prime\n",
      "5 is prime\n",
      "6 is not prime\n",
      "7 is prime\n",
      "8 is not prime\n",
      "9 is not prime\n"
     ]
    }
   ],
   "source": [
    "prim = prime_n(10)"
   ]
  },
  {
   "cell_type": "code",
   "execution_count": 28,
   "id": "039d2c79-b67c-4d09-bd2d-c9e2a6158551",
   "metadata": {},
   "outputs": [
    {
     "data": {
      "text/plain": [
       "8"
      ]
     },
     "execution_count": 28,
     "metadata": {},
     "output_type": "execute_result"
    }
   ],
   "source": [
    "# 11 Write a code that uses a lambda function to calculate the sum of two numbers.\n",
    "add = lambda x,y:x+y\n",
    "add(5,3)"
   ]
  },
  {
   "cell_type": "code",
   "execution_count": 29,
   "id": "90d46d24-b310-46eb-9159-ef617d0c3800",
   "metadata": {},
   "outputs": [
    {
     "data": {
      "text/plain": [
       "64"
      ]
     },
     "execution_count": 29,
     "metadata": {},
     "output_type": "execute_result"
    }
   ],
   "source": [
    "# 12 Write a code that uses a lambda function to calculate the square of a given number.\n",
    "sq = lambda x:x**2\n",
    "sq(8)"
   ]
  },
  {
   "cell_type": "code",
   "execution_count": 30,
   "id": "a6eeff12-3f45-44e1-ad10-787f086d5d81",
   "metadata": {},
   "outputs": [
    {
     "name": "stdout",
     "output_type": "stream",
     "text": [
      "12 is even\n"
     ]
    }
   ],
   "source": [
    "#13 Write a code that uses a lambda function to check whether a given number is even or odd.\n",
    "even_odd = lambda x:print(x,\"is even\") if x % 2 == 0 else print(x,\"is odd\")\n",
    "even_odd(12)"
   ]
  },
  {
   "cell_type": "code",
   "execution_count": 31,
   "id": "65d8b021-c47d-45d8-a9c2-758cac8915ec",
   "metadata": {},
   "outputs": [
    {
     "name": "stdout",
     "output_type": "stream",
     "text": [
      "27 is odd\n"
     ]
    }
   ],
   "source": [
    "even_odd(27)"
   ]
  },
  {
   "cell_type": "code",
   "execution_count": 32,
   "id": "e509227d-9d79-47ce-9b2e-b4f4d2142964",
   "metadata": {},
   "outputs": [
    {
     "data": {
      "text/plain": [
       "'ramshyam'"
      ]
     },
     "execution_count": 32,
     "metadata": {},
     "output_type": "execute_result"
    }
   ],
   "source": [
    "#15 Write a code that uses a lambda function to concatenate two strings.\n",
    "add_string = lambda x,y:x+y\n",
    "add_string(\"ram\",\"shyam\")"
   ]
  },
  {
   "cell_type": "code",
   "execution_count": 33,
   "id": "a085d0e3-bf1a-4567-8993-d0105cab81c6",
   "metadata": {},
   "outputs": [
    {
     "data": {
      "text/plain": [
       "12"
      ]
     },
     "execution_count": 33,
     "metadata": {},
     "output_type": "execute_result"
    }
   ],
   "source": [
    "#16 Write a code that uses a lambda function to find the maximum of three given numbers\n",
    "find_max = lambda x,y,z:max(x,y,z)\n",
    "find_max(12,7,11)"
   ]
  },
  {
   "cell_type": "code",
   "execution_count": 34,
   "id": "6a2c5a2a-a0e9-41e5-8ec4-1f966c69f3dd",
   "metadata": {},
   "outputs": [],
   "source": [
    "#17 Write a code that generates the squares of even numbers from a given list.\n",
    "# using normal function\n",
    "l = [2,7,8,6,9,14,15]\n",
    "def sq(a):\n",
    "    if a % 2 == 0:\n",
    "        return a**2\n",
    "    else:\n",
    "        return 0"
   ]
  },
  {
   "cell_type": "code",
   "execution_count": 35,
   "id": "40c3603c-cc9b-47a0-bc7e-c6370989e403",
   "metadata": {},
   "outputs": [
    {
     "data": {
      "text/plain": [
       "[4, 0, 64, 36, 0, 196, 0]"
      ]
     },
     "execution_count": 35,
     "metadata": {},
     "output_type": "execute_result"
    }
   ],
   "source": [
    "list(map(sq,l))"
   ]
  },
  {
   "cell_type": "code",
   "execution_count": 36,
   "id": "988e74e1-7397-4062-9523-00bf502aeaf2",
   "metadata": {},
   "outputs": [
    {
     "data": {
      "text/plain": [
       "[4, 0, 64, 36, 0, 196, 0]"
      ]
     },
     "execution_count": 36,
     "metadata": {},
     "output_type": "execute_result"
    }
   ],
   "source": [
    "# using lambda function\n",
    "list(map(lambda x : x**2 if x%2==0 else 0,l))"
   ]
  },
  {
   "cell_type": "code",
   "execution_count": 37,
   "id": "23e01879-e61e-4847-a916-0475fbb28502",
   "metadata": {},
   "outputs": [],
   "source": [
    "# 18 Write a code that calculates the product of positive numbers from a given list.\n",
    "def product(lis):\n",
    "    p = 1\n",
    "    for i in lis:\n",
    "        if i > 0:\n",
    "            p = p*i\n",
    "    return p"
   ]
  },
  {
   "cell_type": "code",
   "execution_count": 38,
   "id": "b63d286e-14ba-4901-a3fb-37863bcdd216",
   "metadata": {},
   "outputs": [
    {
     "data": {
      "text/plain": [
       "168"
      ]
     },
     "execution_count": 38,
     "metadata": {},
     "output_type": "execute_result"
    }
   ],
   "source": [
    "product([-4,8,-1,3,7,-9])"
   ]
  },
  {
   "cell_type": "code",
   "execution_count": 39,
   "id": "9f79a57e-bfa7-4f9e-82b2-d054d21dd3a3",
   "metadata": {},
   "outputs": [],
   "source": [
    "# 19 Write a code that doubles the values of odd numbers from a given list.\n",
    "L = [2,7,13,6,9,14,15]\n",
    "def doubled(b):\n",
    "    if b % 2 != 0:\n",
    "        return b*2\n",
    "    else:\n",
    "        return 0"
   ]
  },
  {
   "cell_type": "code",
   "execution_count": 40,
   "id": "b5e3e248-a203-472f-9ea8-f4c96cc62f15",
   "metadata": {},
   "outputs": [
    {
     "data": {
      "text/plain": [
       "[0, 14, 26, 0, 18, 0, 30]"
      ]
     },
     "execution_count": 40,
     "metadata": {},
     "output_type": "execute_result"
    }
   ],
   "source": [
    "list(map(doubled,L))"
   ]
  },
  {
   "cell_type": "code",
   "execution_count": 41,
   "id": "1fc5704c-fee6-4891-ae2d-0b4907d44df9",
   "metadata": {},
   "outputs": [
    {
     "data": {
      "text/plain": [
       "889"
      ]
     },
     "execution_count": 41,
     "metadata": {},
     "output_type": "execute_result"
    }
   ],
   "source": [
    "# 20 Write a code that calculates the sum of cubes of numbers from a given list.\n",
    "c = [2,5,3,9]\n",
    "sum(map(lambda i:i**3,c))"
   ]
  },
  {
   "cell_type": "code",
   "execution_count": 42,
   "id": "b8fca889-22c4-4244-bbe5-36e13b05faf8",
   "metadata": {},
   "outputs": [
    {
     "name": "stdout",
     "output_type": "stream",
     "text": [
      "[2, 3, 5, 7, 11]\n"
     ]
    }
   ],
   "source": [
    "# 21 Write a code that filters out prime numbers from a given list.\n",
    "d = [2,3,4,5,6,7,8,9,10,11]\n",
    "print(list(filter(lambda x :all(x%y != 0 for y in range(2,x)), d)))"
   ]
  },
  {
   "cell_type": "markdown",
   "id": "abf107b7-39f7-44bf-8eff-ae605062cbef",
   "metadata": {},
   "source": [
    "# 22 - 26 are reapet questions"
   ]
  },
  {
   "cell_type": "markdown",
   "id": "d8003837-7328-4269-9875-717aa7313786",
   "metadata": {},
   "source": [
    "# 27 What is encapsulation in OOP?\n",
    "encapsulation means hiding sommething and bundling of data and methods."
   ]
  },
  {
   "cell_type": "markdown",
   "id": "6e5fdbe1-31d7-4b49-8f9e-e513150d6cd1",
   "metadata": {},
   "source": [
    "# 28 Explain the use of access modifiers in Python classes.\n",
    "access modifiers >> There are 3 access modifier >> 1)public , 2)private , 3)protected\n",
    "1) public >> by defalt variable is pblic variable means anyone access it and modify it.this is accesible from inside or outside the class.\n",
    "2) private >> To overcome the disadvantage of public variable , private variable come into the picture. private variable can be accesed within the class only.To make variable private we use __(TWO UNDERSCORE).\n",
    "3) protected >> protected variable can be accessed within the class and by it's class protected member.To make variable protected we use _(ONE UNDERSCORE)."
   ]
  },
  {
   "cell_type": "markdown",
   "id": "5fd86072-119f-41d4-9358-7684324b0c5a",
   "metadata": {},
   "source": [
    "# 29 What is inheritance in OOPS ?\n",
    "inheritance>> inheritance refers to the process of child Class receiving the properties of parent Class.Types of inheritance:-\n",
    "1) single inheritance :- when a Class has only one parent class and one child class.\n",
    "2) multi level inheritance :- when a Class has only one parent class but child class can be more than one.\n",
    "3) multipel inheritance :- one child class may inherit from multiple parent class.\n",
    "4) heirarchical inheritance :- when a Class has only one parent class but child class more than two.\n",
    "5) hybrid inheritance :- multiple types of combination of diffrent inheritance.  "
   ]
  },
  {
   "cell_type": "markdown",
   "id": "1296a817-4a7c-42d0-b073-26190a8fca5a",
   "metadata": {},
   "source": [
    "# 30 Define polymorphism in OOPS ?\n",
    "polymorphism >> poly means many and morphism means states/forms,Refers to an object taking several forms depending on data."
   ]
  },
  {
   "cell_type": "markdown",
   "id": "869c5858-c534-4237-bd00-87c620a7ebe2",
   "metadata": {},
   "source": [
    "# 31 Explain method overriding in Python.\n",
    "method overriding >> In method overriding parent Class And child Class With same parameter , then the child Class method will be executed.   "
   ]
  },
  {
   "cell_type": "code",
   "execution_count": 49,
   "id": "82971b8a-4581-4bc5-a6f9-9faf0b37f8ad",
   "metadata": {},
   "outputs": [
    {
     "data": {
      "text/plain": [
       "' \\nthis is the Example of method overriding \\n'"
      ]
     },
     "execution_count": 49,
     "metadata": {},
     "output_type": "execute_result"
    }
   ],
   "source": [
    "#32 Define a parent class Animal with a method make_sound that prints \"Generic animal sound\". Create a \n",
    "#child class Dog inheriting from Animal with a method make_sound that prints \"Woof!\"\n",
    "class Animal: # parent class\n",
    "    def make_sound(self):\n",
    "        print(\"Generic animal sound\")\n",
    "        \n",
    "class Dog(Animal): # child class\n",
    "    def make_sound(self):\n",
    "        print(\"woof!\")\n",
    "        \n",
    "\"\"\" \n",
    "this is the Example of method overriding \n",
    "\"\"\""
   ]
  },
  {
   "cell_type": "code",
   "execution_count": 50,
   "id": "8a3cb54e-fbd0-414e-a016-eb572c9a1f33",
   "metadata": {},
   "outputs": [
    {
     "name": "stdout",
     "output_type": "stream",
     "text": [
      "woof!\n"
     ]
    }
   ],
   "source": [
    "dog = Dog()\n",
    "dog.make_sound()"
   ]
  },
  {
   "cell_type": "code",
   "execution_count": 51,
   "id": "506d95a5-8ee9-4911-a286-8f57ebb4ae8d",
   "metadata": {},
   "outputs": [],
   "source": [
    "# 33 Define a method move in the Animal class that prints \"Animal moves\". Override the move method in the \n",
    "# Dog class to print \"Dog runs.\n",
    "class Animal: # parent class\n",
    "    def move(self):\n",
    "        print(\"Animal moves\")\n",
    "        \n",
    "class Dog(Animal): # child class\n",
    "    def move(self):\n",
    "        print(\"Dog runs\")"
   ]
  },
  {
   "cell_type": "code",
   "execution_count": 52,
   "id": "e4d4367b-f71a-43af-a3bb-39d14142d57a",
   "metadata": {},
   "outputs": [
    {
     "name": "stdout",
     "output_type": "stream",
     "text": [
      "Dog runs\n"
     ]
    }
   ],
   "source": [
    "d = Dog()\n",
    "d.move()"
   ]
  },
  {
   "cell_type": "code",
   "execution_count": 53,
   "id": "aaab9f1c-48cd-4c56-9a3b-05348fb712e4",
   "metadata": {},
   "outputs": [],
   "source": [
    "# 34 Create a class Mammal with a method reproduce that prints \"Giving birth to live young.\" Create a class \n",
    "# DogMammal inheriting from both Dog and Mammal.\n",
    "class Mammal:\n",
    "    def reproduce(self):\n",
    "        print(\"Giving birth to live young\") \n",
    "class Dog:\n",
    "    def make_sound(self):\n",
    "        print(\"woof!\") \n",
    "class DogMammal(Mammal,Dog):\n",
    "    def child_DogMammal(self):\n",
    "        print(\"child of DogMammal\") "
   ]
  },
  {
   "cell_type": "code",
   "execution_count": 54,
   "id": "4a92f20a-72a1-4cae-8423-1dfc3e0699a0",
   "metadata": {},
   "outputs": [],
   "source": [
    "dm = DogMammal()"
   ]
  },
  {
   "cell_type": "code",
   "execution_count": 55,
   "id": "2d7a309b-c299-4caa-a166-4db241d1409c",
   "metadata": {},
   "outputs": [
    {
     "name": "stdout",
     "output_type": "stream",
     "text": [
      "child of DogMammal\n"
     ]
    }
   ],
   "source": [
    "dm.child_DogMammal()"
   ]
  },
  {
   "cell_type": "code",
   "execution_count": 56,
   "id": "a91c5208-5b69-4ca9-8556-79c4b6e2533f",
   "metadata": {},
   "outputs": [
    {
     "name": "stdout",
     "output_type": "stream",
     "text": [
      "woof!\n"
     ]
    }
   ],
   "source": [
    "dm.make_sound()"
   ]
  },
  {
   "cell_type": "code",
   "execution_count": 57,
   "id": "bafef143-1883-41fe-af77-8af6f74f895f",
   "metadata": {},
   "outputs": [
    {
     "name": "stdout",
     "output_type": "stream",
     "text": [
      "Giving birth to live young\n"
     ]
    }
   ],
   "source": [
    "dm.reproduce()"
   ]
  },
  {
   "cell_type": "code",
   "execution_count": 58,
   "id": "9738cc9a-975e-4c12-90ac-af4ae8ae6da0",
   "metadata": {},
   "outputs": [],
   "source": [
    "# 35 Create a class GermanShepherd inheriting from Dog and override the make_sound method to print \"Bark!\".\n",
    "class Dog:\n",
    "    def make_sound(self):\n",
    "        print(\"parent class bark!\")\n",
    "class Germanshepherd(Dog):\n",
    "    def make_sound(self):\n",
    "        print(\"child class bark!\")"
   ]
  },
  {
   "cell_type": "code",
   "execution_count": 59,
   "id": "c6d7dd07-8db7-4fcd-bb6d-2d1d288a9b35",
   "metadata": {},
   "outputs": [],
   "source": [
    "gs = Germanshepherd()"
   ]
  },
  {
   "cell_type": "code",
   "execution_count": 60,
   "id": "3cbd2c3b-ee0a-4205-9679-56957ccaf68b",
   "metadata": {},
   "outputs": [
    {
     "name": "stdout",
     "output_type": "stream",
     "text": [
      "child class bark!\n"
     ]
    }
   ],
   "source": [
    "gs.make_sound()"
   ]
  },
  {
   "cell_type": "code",
   "execution_count": 61,
   "id": "517cdf3c-e0e8-42e0-b59d-3c87e6967e1c",
   "metadata": {},
   "outputs": [],
   "source": [
    "# 36 Define constructors in both the Animal and Dog classes with different initialization parameters\n",
    "class Animaldog:\n",
    "    def __init__(self,animalsound,dogsound):\n",
    "        self.animalsound = animalsound\n",
    "        self.dogsound = dogsound\n",
    "\n",
    "    def animal(self):\n",
    "        print(\"this is animal sound\",self.animalsound)\n",
    "        \n",
    "    def dog(self):\n",
    "        print(\"this is dog sound\",self.dogsound)"
   ]
  },
  {
   "cell_type": "code",
   "execution_count": 62,
   "id": "e0f80e63-73e3-4cce-9bba-0866dc7cb5ce",
   "metadata": {},
   "outputs": [],
   "source": [
    "obj = Animaldog(\"natural\",\"bark!\")"
   ]
  },
  {
   "cell_type": "code",
   "execution_count": 63,
   "id": "22319413-33dd-4957-8502-99f6e6526107",
   "metadata": {},
   "outputs": [
    {
     "data": {
      "text/plain": [
       "'natural'"
      ]
     },
     "execution_count": 63,
     "metadata": {},
     "output_type": "execute_result"
    }
   ],
   "source": [
    "obj.animalsound"
   ]
  },
  {
   "cell_type": "code",
   "execution_count": 64,
   "id": "c8380315-603a-4840-b63b-4ba138068f4e",
   "metadata": {},
   "outputs": [
    {
     "data": {
      "text/plain": [
       "'bark!'"
      ]
     },
     "execution_count": 64,
     "metadata": {},
     "output_type": "execute_result"
    }
   ],
   "source": [
    "obj.dogsound"
   ]
  },
  {
   "cell_type": "markdown",
   "id": "215777ee-fe0d-4b20-bac6-19f34bdcda4d",
   "metadata": {},
   "source": [
    "# 37 What is abstraction in Python? How is it implemented ?\n",
    "abstraction >> abstraction is concept of hiding complex implementation and showing only the necessary functionality and interface.\n",
    "\n",
    "implementation >> import abc\n",
    "\n",
    "                @abc.abstractmethod"
   ]
  },
  {
   "cell_type": "markdown",
   "id": "ac625962-3f9e-4562-b6e2-556dadbf3bb9",
   "metadata": {},
   "source": [
    "# 38 Explain the importance of abstraction in object-oriented programming.\n",
    "importance >> abstraction provides a programmer to hide all the irrelevant data/process of an application in order to reduce complexity and increase the efficiency of the program."
   ]
  },
  {
   "cell_type": "markdown",
   "id": "2ddb5c77-1965-420c-a7b0-a65b069fa840",
   "metadata": {},
   "source": [
    "# 39 How are abstract methods different from regular methods in Python.\n",
    "abstract methods >> abstract classes cannot be used to create objects directly.they serve as blueprint for other classes to inherit from.abstract methods are special methods found only in abstract classes."
   ]
  },
  {
   "cell_type": "code",
   "execution_count": 68,
   "id": "733495af-4b6c-407d-a81a-68e22fe103b9",
   "metadata": {},
   "outputs": [],
   "source": [
    "# 40 & 41 Can you provide an example of how abstraction can be utilized to create a common interface for a group of related classes in Python.\n",
    "import abc\n",
    "class Coaching:\n",
    "    @abc.abstractmethod\n",
    "    def student_details(self):\n",
    "        pass\n",
    "    @abc.abstractmethod\n",
    "    def student_marks(self):\n",
    "        pass\n",
    "    @abc.abstractmethod\n",
    "    def student_assignment(self):\n",
    "        pass"
   ]
  },
  {
   "cell_type": "code",
   "execution_count": 69,
   "id": "6bc6c98a-2ede-4d7a-887c-fe766981d6ea",
   "metadata": {},
   "outputs": [],
   "source": [
    "class Ssc(Coaching):\n",
    "    def student_details(self):\n",
    "        return \"ssc course student details\"\n",
    "    def student_assignment(self):\n",
    "        return \"give assignment of ssc\""
   ]
  },
  {
   "cell_type": "code",
   "execution_count": 70,
   "id": "2b69026c-ed25-4bdf-919a-597ccfc0be0d",
   "metadata": {},
   "outputs": [],
   "source": [
    "class Uppse(Coaching):\n",
    "    def student_details(self):\n",
    "        return \"uppsc course student details\"\n",
    "    def student_marks(self):\n",
    "        return \"uppsc course student's marks\""
   ]
  },
  {
   "cell_type": "code",
   "execution_count": 71,
   "id": "d5d9b569-1a12-4f46-8cc2-59093b448c6f",
   "metadata": {},
   "outputs": [],
   "source": [
    "ssc = Ssc()"
   ]
  },
  {
   "cell_type": "code",
   "execution_count": 72,
   "id": "3562a2d0-9e3b-46f3-ba68-e8dd0c5ae0a1",
   "metadata": {},
   "outputs": [
    {
     "data": {
      "text/plain": [
       "'ssc course student details'"
      ]
     },
     "execution_count": 72,
     "metadata": {},
     "output_type": "execute_result"
    }
   ],
   "source": [
    "ssc.student_details()"
   ]
  },
  {
   "cell_type": "code",
   "execution_count": 73,
   "id": "9291c471-5715-41c7-93de-a337cd7b14a5",
   "metadata": {},
   "outputs": [],
   "source": [
    "uppse = Uppse()"
   ]
  },
  {
   "cell_type": "code",
   "execution_count": 74,
   "id": "a4cc8ea7-5db1-47db-90b3-89db75e44f8d",
   "metadata": {},
   "outputs": [
    {
     "data": {
      "text/plain": [
       "\"uppsc course student's marks\""
      ]
     },
     "execution_count": 74,
     "metadata": {},
     "output_type": "execute_result"
    }
   ],
   "source": [
    "uppse.student_marks()"
   ]
  },
  {
   "cell_type": "code",
   "execution_count": 75,
   "id": "797dedae-465c-4c76-af3b-0c1863a7bacc",
   "metadata": {},
   "outputs": [],
   "source": [
    "# 42  How does Python achieve polymorphism through method overriding\n",
    "class Animal:\n",
    "    def sound(self):\n",
    "        print(\"animal sound\")\n",
    "class Cat(Animal):\n",
    "    def sound(self):\n",
    "        print(\"cat sound\")"
   ]
  },
  {
   "cell_type": "code",
   "execution_count": 76,
   "id": "1f51c2f4-2022-41f1-a90d-5685739429c5",
   "metadata": {},
   "outputs": [],
   "source": [
    "c = Cat()"
   ]
  },
  {
   "cell_type": "code",
   "execution_count": 77,
   "id": "a8bf9a09-0d66-4f10-adea-dd65117bef1d",
   "metadata": {},
   "outputs": [
    {
     "name": "stdout",
     "output_type": "stream",
     "text": [
      "cat sound\n"
     ]
    }
   ],
   "source": [
    "c.sound()"
   ]
  },
  {
   "cell_type": "code",
   "execution_count": 78,
   "id": "658d07ac-1247-4849-aecd-dbc9e04ef8c9",
   "metadata": {},
   "outputs": [],
   "source": [
    "# 43 Define a base class with a method and a subclass that overrides the method\n",
    "class Father:\n",
    "    def property(self):\n",
    "        print(\"father property\")\n",
    "class Son(Father):\n",
    "    def property(self):\n",
    "        print(\"son property\")"
   ]
  },
  {
   "cell_type": "code",
   "execution_count": 79,
   "id": "17903283-06b2-4dda-b0dd-2907efd738e0",
   "metadata": {},
   "outputs": [],
   "source": [
    "s = Son()"
   ]
  },
  {
   "cell_type": "code",
   "execution_count": 80,
   "id": "c22accaa-d9e9-42d9-8cfb-78fae88a9a8d",
   "metadata": {},
   "outputs": [
    {
     "name": "stdout",
     "output_type": "stream",
     "text": [
      "son property\n"
     ]
    }
   ],
   "source": [
    "s.property()"
   ]
  },
  {
   "cell_type": "code",
   "execution_count": 81,
   "id": "3dc6a21e-9ad4-468a-8617-a99ecb32814c",
   "metadata": {},
   "outputs": [],
   "source": [
    "# 44 Define a base class and multiple subclasses with overridden methods\n",
    "class Vehicle:\n",
    "    def info(self):\n",
    "        print(\"vehicle info\")\n",
    "class Car(Vehicle):\n",
    "    def info(self):\n",
    "        print(\"car info\")\n",
    "class Bike(Vehicle):\n",
    "    def info(self):\n",
    "        print(\"bike info\")\n",
    "class Truck(Vehicle):\n",
    "    def info(self):\n",
    "        print(\"truck info\")        "
   ]
  },
  {
   "cell_type": "code",
   "execution_count": 82,
   "id": "35dba5ae-65b5-43dd-ab4e-b8c494a80e64",
   "metadata": {},
   "outputs": [],
   "source": [
    "t = Truck()\n",
    "b = Bike()\n",
    "c = Car()"
   ]
  },
  {
   "cell_type": "code",
   "execution_count": 83,
   "id": "7c1e2449-780c-430f-b4ac-e5d75e426918",
   "metadata": {},
   "outputs": [
    {
     "name": "stdout",
     "output_type": "stream",
     "text": [
      "car info\n"
     ]
    }
   ],
   "source": [
    "c.info()"
   ]
  },
  {
   "cell_type": "code",
   "execution_count": 84,
   "id": "c2c1510b-1cd8-4337-9b6a-e29e852a0d1a",
   "metadata": {},
   "outputs": [
    {
     "name": "stdout",
     "output_type": "stream",
     "text": [
      "bike info\n"
     ]
    }
   ],
   "source": [
    "b.info()"
   ]
  },
  {
   "cell_type": "code",
   "execution_count": 85,
   "id": "ef432293-00c8-4f37-9fb8-14d5fc07b115",
   "metadata": {},
   "outputs": [
    {
     "name": "stdout",
     "output_type": "stream",
     "text": [
      "truck info\n"
     ]
    }
   ],
   "source": [
    "t.info()"
   ]
  },
  {
   "cell_type": "code",
   "execution_count": 86,
   "id": "9072e351-314d-4d31-aa02-cb74a27aa07e",
   "metadata": {},
   "outputs": [],
   "source": [
    "# 45 How does polymorphism improve code readability and reusability ?\n",
    "def func(a,b):\n",
    "    return a+b"
   ]
  },
  {
   "cell_type": "code",
   "execution_count": 87,
   "id": "540773c8-4c1f-4b9d-b6d2-14ac9449c1b8",
   "metadata": {},
   "outputs": [
    {
     "data": {
      "text/plain": [
       "5"
      ]
     },
     "execution_count": 87,
     "metadata": {},
     "output_type": "execute_result"
    }
   ],
   "source": [
    "func(2,3)"
   ]
  },
  {
   "cell_type": "code",
   "execution_count": 88,
   "id": "3a8144db-578d-4fac-a7d9-ff8bb9eeda9d",
   "metadata": {},
   "outputs": [
    {
     "data": {
      "text/plain": [
       "'sharadsharma'"
      ]
     },
     "execution_count": 88,
     "metadata": {},
     "output_type": "execute_result"
    }
   ],
   "source": [
    "func(\"sharad\",\"sharma\")"
   ]
  },
  {
   "cell_type": "code",
   "execution_count": 89,
   "id": "90e136a5-99f1-4031-aea4-bda67cbf8182",
   "metadata": {},
   "outputs": [
    {
     "data": {
      "text/plain": [
       "[1, 2, 3, 4, 5, 6]"
      ]
     },
     "execution_count": 89,
     "metadata": {},
     "output_type": "execute_result"
    }
   ],
   "source": [
    "func([1,2,3],[4,5,6])"
   ]
  },
  {
   "cell_type": "code",
   "execution_count": 90,
   "id": "63ef1b85-3f23-4b09-a8a0-8dfbc1477e27",
   "metadata": {},
   "outputs": [],
   "source": [
    "# 46  Describe how Python supports polymorphism with duck typing\n",
    "class Dog:\n",
    "    def sound(self):\n",
    "        print(\"bark\")\n",
    "class Cat:\n",
    "    def sound(self):\n",
    "        print(\"meow\")\n",
    "class Duck:\n",
    "    def sound(self):\n",
    "        print(\"quack\")\n",
    "def animal_sound(animal):\n",
    "    print(animal.sound())"
   ]
  },
  {
   "cell_type": "code",
   "execution_count": 91,
   "id": "8651fab0-5b62-44f8-baee-0f3d80e71903",
   "metadata": {},
   "outputs": [],
   "source": [
    "animals = [Dog(),Cat(),Duck()]"
   ]
  },
  {
   "cell_type": "code",
   "execution_count": 92,
   "id": "0ffb6664-ecd9-4c2e-97c9-7f8a9c5d92e2",
   "metadata": {},
   "outputs": [
    {
     "name": "stdout",
     "output_type": "stream",
     "text": [
      "bark\n",
      "None\n",
      "meow\n",
      "None\n",
      "quack\n",
      "None\n"
     ]
    }
   ],
   "source": [
    "for animal in animals:\n",
    "    animal_sound(animal)"
   ]
  },
  {
   "cell_type": "markdown",
   "id": "62fe57e7-ad53-402a-8eed-d85dda2c2575",
   "metadata": {},
   "source": [
    "# 47  How do you achieve encapsulation in Python.\n",
    "Through access modifiers >> There are 3 access modifier >> 1)public , 2)private , 3)protected\n",
    "1) public >> by defalt variable is pblic variable means anyone access it and modify it.this is accesible from inside or outside the class.\n",
    "2) private >> To overcome the disadvantage of public variable , private variable come into the picture. private variable can be accesed within the class only.To make variable private we use __(TWO UNDERSCORE).\n",
    "3) protected >> protected variable can be accessed within the class and by it's class protected member.To make variable protected we use _(ONE UNDERSCORE)."
   ]
  },
  {
   "cell_type": "markdown",
   "id": "64b69158-e013-4302-8e9c-136cd0e3126a",
   "metadata": {},
   "source": [
    "# 48  How do you achieve encapsulation in Python.\n",
    "\n",
    "Yes , encapsulation in python can be bypassed due to python's dynamic and flexible nature.\n",
    "\n",
    "# Encapsulation can be bypassed >> \n",
    "\n",
    "a) accessing protected attributes\n",
    "\n",
    "b) accessing private attributes\n",
    "\n",
    "c) Direct modification\n",
    "\n",
    "d) reflection and interospection"
   ]
  },
  {
   "cell_type": "code",
   "execution_count": 95,
   "id": "92f90f77-0c01-4071-9738-f1c6c8d91455",
   "metadata": {},
   "outputs": [],
   "source": [
    "# 49 Implement a class BankAccount with a private balance attribute. Include methods to deposit, withdraw, and check the balance.\n",
    "class Bankaccount:\n",
    "    def __init__(self,balance):\n",
    "        self.__balance = balance\n",
    "\n",
    "    def deposite(self,amount):\n",
    "        self.__balance = self.__balance + amount\n",
    "\n",
    "    def witdraw(self,amount):\n",
    "        if self.__balance >= amount:\n",
    "            self.__balance = self.__balance - amount\n",
    "            return True\n",
    "        else:\n",
    "            return False\n",
    "            \n",
    "    def get_balance(self):\n",
    "        return self.__balance"
   ]
  },
  {
   "cell_type": "code",
   "execution_count": 96,
   "id": "4f280491-d040-4dc3-ae9b-4282e3e84229",
   "metadata": {},
   "outputs": [],
   "source": [
    "acc = Bankaccount(10000)"
   ]
  },
  {
   "cell_type": "code",
   "execution_count": 97,
   "id": "a2690797-e2e5-46bf-8096-ad95f62d5818",
   "metadata": {},
   "outputs": [],
   "source": [
    "acc.deposite(5000)"
   ]
  },
  {
   "cell_type": "code",
   "execution_count": 98,
   "id": "62a6ddcd-ab47-44d2-83c5-710bc84c4223",
   "metadata": {},
   "outputs": [
    {
     "data": {
      "text/plain": [
       "15000"
      ]
     },
     "execution_count": 98,
     "metadata": {},
     "output_type": "execute_result"
    }
   ],
   "source": [
    "acc.get_balance()"
   ]
  },
  {
   "cell_type": "code",
   "execution_count": 99,
   "id": "c47f8323-82ea-4a07-b0d2-1eb2ff3392b8",
   "metadata": {},
   "outputs": [
    {
     "data": {
      "text/plain": [
       "True"
      ]
     },
     "execution_count": 99,
     "metadata": {},
     "output_type": "execute_result"
    }
   ],
   "source": [
    "acc.witdraw(15000)"
   ]
  },
  {
   "cell_type": "code",
   "execution_count": 100,
   "id": "0d2ac722-005b-480d-a6f0-3ef3968e80fa",
   "metadata": {},
   "outputs": [
    {
     "data": {
      "text/plain": [
       "0"
      ]
     },
     "execution_count": 100,
     "metadata": {},
     "output_type": "execute_result"
    }
   ],
   "source": [
    "acc.get_balance()"
   ]
  },
  {
   "cell_type": "code",
   "execution_count": 101,
   "id": "357cda67-d139-43a0-86b4-2ad66641401c",
   "metadata": {},
   "outputs": [],
   "source": [
    "# 50 Develop a Person class with private attributes name and email, and methods to set and get the email.\n",
    "class Person:\n",
    "    def __init__(self,name,email):\n",
    "        self.__name = name\n",
    "        self.__email = email\n",
    "    @property\n",
    "    def access_email(self):\n",
    "        return self.__email\n",
    "\n",
    "    @access_email.setter\n",
    "    def email_set(self,new_email):\n",
    "        self.__email = new_email\n",
    "\n",
    "    @access_email.getter\n",
    "    def email_get(self):\n",
    "        return self.__email"
   ]
  },
  {
   "cell_type": "code",
   "execution_count": 102,
   "id": "e5a3209e-8d07-4f9e-ab16-0cbbe52e4065",
   "metadata": {},
   "outputs": [],
   "source": [
    "p = Person(\"sharad\",\"sharad@gmail.com\")"
   ]
  },
  {
   "cell_type": "code",
   "execution_count": 103,
   "id": "ac76e39f-284a-4197-9375-14eb595b8b6d",
   "metadata": {},
   "outputs": [
    {
     "data": {
      "text/plain": [
       "'sharad@gmail.com'"
      ]
     },
     "execution_count": 103,
     "metadata": {},
     "output_type": "execute_result"
    }
   ],
   "source": [
    "p.email_get"
   ]
  },
  {
   "cell_type": "code",
   "execution_count": 104,
   "id": "9f288453-a32c-43f4-b975-1a4e6c62de20",
   "metadata": {},
   "outputs": [],
   "source": [
    "p.email_set = \"s@gmail.com\""
   ]
  },
  {
   "cell_type": "code",
   "execution_count": 105,
   "id": "3f068a3b-b118-475a-b28a-8553390e7609",
   "metadata": {},
   "outputs": [
    {
     "data": {
      "text/plain": [
       "'s@gmail.com'"
      ]
     },
     "execution_count": 105,
     "metadata": {},
     "output_type": "execute_result"
    }
   ],
   "source": [
    "p.email_get"
   ]
  },
  {
   "cell_type": "markdown",
   "id": "56d8175d-5dfe-49ad-a5c3-fe062e170d8e",
   "metadata": {},
   "source": [
    "# 51  Why is encapsulation considered a pillar of object-oriented programming (OOP)?\n",
    "\n",
    "Encapsulation is considered a fundamental pillar of object-oriented programming (OOP) because it directly supports several key principles and benefits\n",
    "of OOP. here's why Encapsulation is crucial :-\n",
    "\n",
    "1) Data Hiding\n",
    "2) Controlled Access\n",
    "3) Modularity\n",
    "4) Flexibility and Maintainibility\n",
    "5) Abstraction\n",
    "6) Inheritance and polymorphism"
   ]
  },
  {
   "cell_type": "code",
   "execution_count": 107,
   "id": "46564898-0bbe-46c4-8917-bafe63d0ff28",
   "metadata": {},
   "outputs": [],
   "source": [
    "# 52 Create a decorator in Python that adds functionality to a simple function by printing a message before and after the function execution.\n",
    "def decorater(func):\n",
    "    def wrapper():\n",
    "        print(\"the lines print before the func\")\n",
    "        func()\n",
    "        print(\"the lines print after the func\")\n",
    "    return wrapper"
   ]
  },
  {
   "cell_type": "code",
   "execution_count": 108,
   "id": "d7ffd6eb-5643-4a11-a5c1-8876d85d5c28",
   "metadata": {},
   "outputs": [],
   "source": [
    "@decorater\n",
    "def say_hello():\n",
    "    print(\"hello\")"
   ]
  },
  {
   "cell_type": "code",
   "execution_count": 109,
   "id": "fde7e409-b556-4c87-81d5-77ac4a08fad3",
   "metadata": {},
   "outputs": [
    {
     "name": "stdout",
     "output_type": "stream",
     "text": [
      "the lines print before the func\n",
      "hello\n",
      "the lines print after the func\n"
     ]
    }
   ],
   "source": [
    "say_hello()"
   ]
  },
  {
   "cell_type": "code",
   "execution_count": 110,
   "id": "af41b791-8c7c-4ab3-a999-bcb1ab7ff5c8",
   "metadata": {},
   "outputs": [],
   "source": [
    "# 57 Create a Python class `Calculator` with a static method `add` that takes in two numbers and returns their sum.\n",
    "class Calculator:\n",
    "    @staticmethod\n",
    "    def add(a,b):\n",
    "      return a+b"
   ]
  },
  {
   "cell_type": "code",
   "execution_count": 111,
   "id": "aeafb150-b18d-42dd-a5ef-8bc974f803fb",
   "metadata": {},
   "outputs": [
    {
     "data": {
      "text/plain": [
       "18"
      ]
     },
     "execution_count": 111,
     "metadata": {},
     "output_type": "execute_result"
    }
   ],
   "source": [
    "Calculator.add(7,11)"
   ]
  },
  {
   "cell_type": "code",
   "execution_count": 112,
   "id": "e7da0fa5-b9d3-4df8-83c3-39166205ce32",
   "metadata": {},
   "outputs": [],
   "source": [
    "# 58 Create a Python class `Employee` with a class `method get_employee_count` that returns the total number of employees created.\n",
    "class Employee:\n",
    "    total_emp = 0\n",
    "    def __init__(self,name):\n",
    "        self.name = name\n",
    "        Employee.total_emp = Employee.total_emp+1\n",
    "    @classmethod\n",
    "    def get_total_emp(cls):\n",
    "        return cls.total_emp"
   ]
  },
  {
   "cell_type": "code",
   "execution_count": 113,
   "id": "303ddd43-af69-4a91-8c62-9f247af232e6",
   "metadata": {},
   "outputs": [
    {
     "data": {
      "text/plain": [
       "0"
      ]
     },
     "execution_count": 113,
     "metadata": {},
     "output_type": "execute_result"
    }
   ],
   "source": [
    "Employee.get_total_emp()"
   ]
  },
  {
   "cell_type": "code",
   "execution_count": 114,
   "id": "bbf67082-a442-4c27-8886-f9f50533072d",
   "metadata": {},
   "outputs": [],
   "source": [
    "emp1 = Employee(\"Rajesh\")\n",
    "emp1 = Employee(\"vijay\")\n",
    "emp1 = Employee(\"jay\")\n",
    "emp1 = Employee(\"ranjan\")"
   ]
  },
  {
   "cell_type": "code",
   "execution_count": 115,
   "id": "d8caac85-e7e7-4c72-9421-be1ed35abbd4",
   "metadata": {},
   "outputs": [
    {
     "data": {
      "text/plain": [
       "4"
      ]
     },
     "execution_count": 115,
     "metadata": {},
     "output_type": "execute_result"
    }
   ],
   "source": [
    "Employee.get_total_emp()"
   ]
  },
  {
   "cell_type": "code",
   "execution_count": 116,
   "id": "60d87028-4a1f-4d92-a5c9-e08e30f5179f",
   "metadata": {},
   "outputs": [],
   "source": [
    "# 59 Create a Python class `StringFormatter` with a static method `reverse_string` that takes a string as input and returns its reverse.\n",
    "class Stringformatter:\n",
    "    @staticmethod\n",
    "    def reverse_strin(a):\n",
    "        return a[::-1]"
   ]
  },
  {
   "cell_type": "code",
   "execution_count": 117,
   "id": "9d8a1f1b-57a9-415e-ab93-12b6b47c74b0",
   "metadata": {},
   "outputs": [
    {
     "data": {
      "text/plain": [
       "'ardnejar'"
      ]
     },
     "execution_count": 117,
     "metadata": {},
     "output_type": "execute_result"
    }
   ],
   "source": [
    "Stringformatter.reverse_strin(\"rajendra\")"
   ]
  },
  {
   "cell_type": "code",
   "execution_count": 118,
   "id": "6b7df03f-895c-42db-8385-2b758793fa4d",
   "metadata": {},
   "outputs": [],
   "source": [
    "# 60 Create a Python class `Circle` with a class method `calculate_area` that calculates the area of a circle given its radius.\n",
    "class Circle:\n",
    "    def __init__(self, radius):\n",
    "        self.radius = radius\n",
    "        \n",
    "    \n",
    "    def calculate_area(self):\n",
    "        radius = self.radius\n",
    "        return 3.14 * radius ** 2"
   ]
  },
  {
   "cell_type": "code",
   "execution_count": 119,
   "id": "ae4ad96e-5350-4f40-be1a-47efdced4d7c",
   "metadata": {},
   "outputs": [],
   "source": [
    "c = Circle(11)"
   ]
  },
  {
   "cell_type": "code",
   "execution_count": 120,
   "id": "69e69425-e177-4594-a784-7a0bc1e31bfc",
   "metadata": {},
   "outputs": [
    {
     "data": {
      "text/plain": [
       "11"
      ]
     },
     "execution_count": 120,
     "metadata": {},
     "output_type": "execute_result"
    }
   ],
   "source": [
    "c.radius"
   ]
  },
  {
   "cell_type": "code",
   "execution_count": 121,
   "id": "43063f71-6e3d-466a-b674-42fc05087e98",
   "metadata": {},
   "outputs": [
    {
     "data": {
      "text/plain": [
       "379.94"
      ]
     },
     "execution_count": 121,
     "metadata": {},
     "output_type": "execute_result"
    }
   ],
   "source": [
    "c.calculate_area()"
   ]
  },
  {
   "cell_type": "code",
   "execution_count": 122,
   "id": "27fe940a-6d6e-4ca2-b94c-46523b347d16",
   "metadata": {},
   "outputs": [],
   "source": [
    "# 61 Create a Python class `TemperatureConverter` with a static method `celsius_to_fahrenheit` that converts Celsius to Fahrenheit.\n",
    "class Temperatureconverter:\n",
    "    @staticmethod\n",
    "    def celsius_to_fahrenheit(a):\n",
    "        fahrenheit = (a * 1.8) + 32\n",
    "        return fahrenheit"
   ]
  },
  {
   "cell_type": "code",
   "execution_count": 123,
   "id": "31089c1f-12a9-4152-9ac0-888569b31c27",
   "metadata": {},
   "outputs": [
    {
     "data": {
      "text/plain": [
       "51.8"
      ]
     },
     "execution_count": 123,
     "metadata": {},
     "output_type": "execute_result"
    }
   ],
   "source": [
    "Temperatureconverter.celsius_to_fahrenheit(11)"
   ]
  },
  {
   "cell_type": "code",
   "execution_count": 124,
   "id": "6ac88d5a-7423-43c0-bc15-0f313c5608f1",
   "metadata": {},
   "outputs": [],
   "source": [
    "# 67 What is the purpose of a getter method in Python? Provide an example demonstrating the use of a getter method using property decorators.\n",
    "# purpose of a getter method to access value of private variable.\n",
    "class Person:\n",
    "    def __init__(self,name,email):\n",
    "        self.__name = name\n",
    "        self.__email = email\n",
    "    @property\n",
    "    def access_email(self):\n",
    "        return self.__email\n",
    "\n",
    "    @access_email.getter\n",
    "    def email_get(self):\n",
    "        return self.__email"
   ]
  },
  {
   "cell_type": "code",
   "execution_count": 125,
   "id": "ff17dfad-9d3e-457b-aed3-406e3f7863d3",
   "metadata": {},
   "outputs": [],
   "source": [
    "pe = Person(\"sharad\",\"sharad@gmail.com\")"
   ]
  },
  {
   "cell_type": "code",
   "execution_count": 126,
   "id": "5e366a30-7d22-41b2-97c3-21eecdf16384",
   "metadata": {},
   "outputs": [
    {
     "data": {
      "text/plain": [
       "'sharad@gmail.com'"
      ]
     },
     "execution_count": 126,
     "metadata": {},
     "output_type": "execute_result"
    }
   ],
   "source": [
    "pe.email_get"
   ]
  },
  {
   "cell_type": "code",
   "execution_count": 127,
   "id": "b9623159-3dcb-4371-b08b-754c13a2cf67",
   "metadata": {},
   "outputs": [],
   "source": [
    "# 68 Explain the role of setter methods in Python. Demonstrate how to use a setter method to modify a class attribute using property decorators.\n",
    "# role of setter methods in Python is modify the value of private variable.\n",
    "class Person:\n",
    "    def __init__(self,name,email):\n",
    "        self.__name = name\n",
    "        self.__email = email\n",
    "    @property\n",
    "    def access_email(self):\n",
    "        return self.__email\n",
    "\n",
    "    @access_email.setter\n",
    "    def email_set(self,new_email):\n",
    "        self.__email = new_email"
   ]
  },
  {
   "cell_type": "code",
   "execution_count": 128,
   "id": "f2a7fe62-3519-4101-944f-728d8ba90efa",
   "metadata": {},
   "outputs": [],
   "source": [
    "per = Person(\"sharad\",\"sharad@gmail.com\")"
   ]
  },
  {
   "cell_type": "code",
   "execution_count": 129,
   "id": "e9cb9bac-4051-4f58-912a-7595b9606574",
   "metadata": {},
   "outputs": [
    {
     "data": {
      "text/plain": [
       "'sharad@gmail.com'"
      ]
     },
     "execution_count": 129,
     "metadata": {},
     "output_type": "execute_result"
    }
   ],
   "source": [
    "per.email_set"
   ]
  },
  {
   "cell_type": "code",
   "execution_count": 130,
   "id": "d2902fd7-415a-4d89-898c-3994485da579",
   "metadata": {},
   "outputs": [],
   "source": [
    "per.email_set = \"S@gmail.com\""
   ]
  },
  {
   "cell_type": "code",
   "execution_count": 131,
   "id": "6fd228db-790e-4490-81ef-eaba098137dd",
   "metadata": {},
   "outputs": [
    {
     "data": {
      "text/plain": [
       "'S@gmail.com'"
      ]
     },
     "execution_count": 131,
     "metadata": {},
     "output_type": "execute_result"
    }
   ],
   "source": [
    "per.email_set"
   ]
  },
  {
   "cell_type": "code",
   "execution_count": 132,
   "id": "d141f184-334e-413e-b324-33601d981eb7",
   "metadata": {},
   "outputs": [],
   "source": [
    "# 70 Explain the use of the @deleter decorator in Python property decorators. Provide a code example demonstrating its application.\n",
    "\n",
    "class Person:\n",
    "    def __init__(self,name,email):\n",
    "        self.__name = name\n",
    "        self.__email = email\n",
    "    @property\n",
    "    def access_email(self):\n",
    "        return self.__email\n",
    "\n",
    "    @access_email.deleter\n",
    "    def email_del(self):\n",
    "        del self.__email"
   ]
  },
  {
   "cell_type": "code",
   "execution_count": 133,
   "id": "7812f5b2-a109-443b-82d5-b34add5bcdc0",
   "metadata": {},
   "outputs": [],
   "source": [
    "pers = Person(\"sharad\",\"sharad@gmail.com\")"
   ]
  },
  {
   "cell_type": "code",
   "execution_count": 134,
   "id": "4c9ab33f-c6f4-4dd8-9503-3740853c3785",
   "metadata": {},
   "outputs": [
    {
     "data": {
      "text/plain": [
       "'sharad@gmail.com'"
      ]
     },
     "execution_count": 134,
     "metadata": {},
     "output_type": "execute_result"
    }
   ],
   "source": [
    "pers.access_email"
   ]
  },
  {
   "cell_type": "code",
   "execution_count": 135,
   "id": "ff78cdf9-3057-4dc0-80f1-ad3d19a5d168",
   "metadata": {},
   "outputs": [],
   "source": [
    "del pers.email_del"
   ]
  },
  {
   "cell_type": "code",
   "execution_count": 136,
   "id": "ec924b1e-86cd-44f3-b335-b62320fb879e",
   "metadata": {},
   "outputs": [
    {
     "ename": "AttributeError",
     "evalue": "'Person' object has no attribute '_Person__email'",
     "output_type": "error",
     "traceback": [
      "\u001b[1;31m---------------------------------------------------------------------------\u001b[0m",
      "\u001b[1;31mAttributeError\u001b[0m                            Traceback (most recent call last)",
      "Cell \u001b[1;32mIn[136], line 1\u001b[0m\n\u001b[1;32m----> 1\u001b[0m pers\u001b[38;5;241m.\u001b[39maccess_email\n",
      "Cell \u001b[1;32mIn[132], line 9\u001b[0m, in \u001b[0;36mPerson.access_email\u001b[1;34m(self)\u001b[0m\n\u001b[0;32m      7\u001b[0m \u001b[38;5;129m@property\u001b[39m\n\u001b[0;32m      8\u001b[0m \u001b[38;5;28;01mdef\u001b[39;00m \u001b[38;5;21maccess_email\u001b[39m(\u001b[38;5;28mself\u001b[39m):\n\u001b[1;32m----> 9\u001b[0m     \u001b[38;5;28;01mreturn\u001b[39;00m \u001b[38;5;28mself\u001b[39m\u001b[38;5;241m.\u001b[39m__email\n",
      "\u001b[1;31mAttributeError\u001b[0m: 'Person' object has no attribute '_Person__email'"
     ]
    }
   ],
   "source": [
    "pers.access_email"
   ]
  }
 ],
 "metadata": {
  "kernelspec": {
   "display_name": "Python 3 (ipykernel)",
   "language": "python",
   "name": "python3"
  },
  "language_info": {
   "codemirror_mode": {
    "name": "ipython",
    "version": 3
   },
   "file_extension": ".py",
   "mimetype": "text/x-python",
   "name": "python",
   "nbconvert_exporter": "python",
   "pygments_lexer": "ipython3",
   "version": "3.12.4"
  }
 },
 "nbformat": 4,
 "nbformat_minor": 5
}
